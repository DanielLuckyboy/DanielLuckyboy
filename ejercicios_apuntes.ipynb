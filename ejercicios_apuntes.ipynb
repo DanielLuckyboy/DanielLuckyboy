{
  "nbformat": 4,
  "nbformat_minor": 0,
  "metadata": {
    "colab": {
      "provenance": [],
      "include_colab_link": true
    },
    "kernelspec": {
      "name": "python3",
      "display_name": "Python 3"
    },
    "language_info": {
      "name": "python"
    }
  },
  "cells": [
    {
      "cell_type": "markdown",
      "metadata": {
        "id": "view-in-github",
        "colab_type": "text"
      },
      "source": [
        "<a href=\"https://colab.research.google.com/github/DanielLuckyboy/DanielLuckyboy/blob/main/ejercicios_apuntes.ipynb\" target=\"_parent\"><img src=\"https://colab.research.google.com/assets/colab-badge.svg\" alt=\"Open In Colab\"/></a>"
      ]
    },
    {
      "cell_type": "code",
      "execution_count": null,
      "metadata": {
        "id": "lw5tdKBkUCUP"
      },
      "outputs": [],
      "source": [
        "import numpy as np\n",
        "import matplotlib.pyplot as plt"
      ]
    },
    {
      "cell_type": "code",
      "source": [
        "def icumsum(arr):\n",
        "    result = []\n",
        "    total = 0\n",
        "    for value in arr:\n",
        "        total += value\n",
        "        result.append(total)\n",
        "    return np.array(result)\n",
        "\n",
        "def itotal(arr):\n",
        "    total = 0\n",
        "    for value in arr:\n",
        "        total += value\n",
        "    return np.array(total)\n",
        "\n",
        "def imean_geo(x,n):\n",
        "    Ntot = np.sum(n)\n",
        "\n",
        "    totlog = np.sum( n*np.log(x) ) / Ntot\n",
        "\n",
        "    total = np.exp(totlog)\n",
        "\n",
        "    return np.array(total)\n",
        "\n",
        "def imediana_nogrupo(y):\n",
        "\n",
        "  # mediana de datos no agrupados\n",
        "\n",
        "  # Ordenar los datos\n",
        "  y_sorted = np.sort(y)\n",
        "\n",
        "  print (y_sorted)\n",
        "\n",
        "  # Calcular la cantidad de datos\n",
        "  n = len(y_sorted)\n",
        "\n",
        "  # Calcular la mediana\n",
        "  if n % 2 == 1:\n",
        "      # Cantidad de datos impar\n",
        "      mediana = y_sorted[n // 2]\n",
        "  else:\n",
        "      # Cantidad de datos par\n",
        "      mediana = (y_sorted[n // 2 - 1] + y_sorted[n // 2]) / 2\n",
        "\n",
        "  print(\"Mediana:\", mediana)\n",
        "\n",
        "def imediana(x,n):\n",
        "\n",
        "  N = np.cumsum(n)\n",
        "\n",
        "  # Encontrar la posición de la clase mediana\n",
        "  pos_m = np.argmax(N >= np.sum(n) / 2)\n",
        "\n",
        "  # Calcular la mediana\n",
        "  if np.sum(n) % 2 == 1:\n",
        "      # Cantidad de datos impar\n",
        "      print (\"caso impar: \")\n",
        "      return x[pos_m]\n",
        "  else:\n",
        "      print (\"caso par: \")\n",
        "      # Cantidad de datos par, calcular el promedio de los dos valores centrales\n",
        "      if n[pos_m] == 1:\n",
        "          # Si la frecuencia de la clase mediana es 1, tomar el siguiente valor\n",
        "          return (x[pos_m] + x[pos_m + 1]) / 2\n",
        "      else:\n",
        "          # Si la frecuencia de la clase mediana no es 1, tomar el valor de la clase mediana\n",
        "          return x[pos_m]\n",
        "\n",
        "def calcular_cuartiles(x, n):\n",
        "    # Calcular la frecuencia acumulada\n",
        "    N = np.cumsum(n)\n",
        "\n",
        "    # Encontrar las posiciones de los cuartiles\n",
        "    pos_q1 = np.argmax(N >= np.sum(n) * 0.25)\n",
        "    pos_q2 = np.argmax(N >= np.sum(n) * 0.50)\n",
        "    pos_q3 = np.argmax(N >= np.sum(n) * 0.75)\n",
        "\n",
        "    # Calcular los cuartiles\n",
        "\n",
        "    cuartil_1 = x[pos_q1]\n",
        "\n",
        "    cuartil_2 = x[pos_q2]\n",
        "\n",
        "    cuartil_3 = x[pos_q3]\n",
        "\n",
        "    return cuartil_1, cuartil_2, cuartil_3\n",
        "\n",
        "def iplothist_quartile(x1,n1):\n",
        "  Q1, Q2, Q3 = calcular_cuartiles(x1, n1)\n",
        "\n",
        "  # Crear el histograma\n",
        "  plt.bar(x1, n1, width=1.0, edgecolor='black')\n",
        "\n",
        "  # Colorear la primera parte por debajo del primer cuartil\n",
        "  plt.bar(x1[x1 <= Q1], n1[x1 <= Q1], color='blue', width=1.0, edgecolor='black')\n",
        "\n",
        "  # Colorear la segunda parte entre el primer y segundo cuartil\n",
        "  plt.bar(x1[(x1 > Q1) & (x1 <= Q2)], n1[(x1 > Q1) & (x1 <= Q2)], color='orange', width=1.0, edgecolor='black')\n",
        "\n",
        "  # Colorear la tercera parte entre el segundo y tercer cuartil\n",
        "  plt.bar(x1[(x1 > Q2) & (x1 <= Q3)], n1[(x1 > Q2) & (x1 <= Q3)], color='green', width=1.0, edgecolor='black')\n",
        "\n",
        "  # Colorear la cuarta parte por encima del tercer cuartil\n",
        "  plt.bar(x1[x1 > Q3], n1[x1 > Q3], color='red', width=1.0, edgecolor='black')\n",
        "\n",
        "  # Dibujar líneas verticales para marcar los cuartiles\n",
        "  plt.axvline(x=Q1, color='m', linestyle='dashed', linewidth=2, label='Q1')\n",
        "  plt.axvline(x=Q2, color='g', linestyle='dashed', linewidth=2, label='Q2')\n",
        "  plt.axvline(x=Q3, color='orange', linestyle='dashed', linewidth=2, label='Q3')\n",
        "\n",
        "  # Etiquetas y leyenda\n",
        "  plt.title('Histograma dividido por Cuartiles')\n",
        "  plt.xlabel('Valor')\n",
        "  plt.ylabel('Frecuencia')\n",
        "  plt.legend()\n",
        "\n",
        "  # Mostrar el gráfico\n",
        "  plt.show()"
      ],
      "metadata": {
        "id": "zwaU-emjeBxz"
      },
      "execution_count": null,
      "outputs": []
    },
    {
      "cell_type": "code",
      "source": [
        "y = np.array([7.7, 7.6, 7.8, 7.3, 7.4, 7.3, 7.7, 7.6, 7.5, 7.4])\n",
        "\n",
        "ym = np.mean(y)\n",
        "\n",
        "iym = itotal(y)/len(y)\n",
        "\n",
        "print(ym)\n",
        "\n",
        "print(iym)\n",
        "\n",
        "\n",
        "y = np.array([7.7, 7.6, 7.8, 7.3, 7.4, 7.3, 7.7, 7.6, 7.5, 27.4])\n",
        "\n",
        "ym = np.mean(y)\n",
        "\n",
        "print(ym)"
      ],
      "metadata": {
        "colab": {
          "base_uri": "https://localhost:8080/"
        },
        "id": "Wgwx-wi1Tq5u",
        "outputId": "c824c149-edca-4c9f-e426-c925935b7fc0"
      },
      "execution_count": null,
      "outputs": [
        {
          "output_type": "stream",
          "name": "stdout",
          "text": [
            "7.530000000000001\n",
            "7.530000000000001\n",
            "9.530000000000001\n"
          ]
        }
      ]
    },
    {
      "cell_type": "code",
      "source": [
        "# ejemplo de los apuntes:\n",
        "y = np.array([3, 4, 6, 4, 8, 5, 5, 5, 6])\n",
        "\n",
        "imediana_nogrupo(y)\n",
        "\n",
        "# otro ejemplo de los apuntes:\n",
        "y = np.array([6, 2, 1, 4, 3, 2])\n",
        "\n",
        "imediana_nogrupo(y)"
      ],
      "metadata": {
        "colab": {
          "base_uri": "https://localhost:8080/"
        },
        "id": "FnWKb215ibAh",
        "outputId": "9704237c-5598-419d-ca03-640d36b7e935"
      },
      "execution_count": null,
      "outputs": [
        {
          "output_type": "stream",
          "name": "stdout",
          "text": [
            "[3 4 4 5 5 5 6 6 8]\n",
            "Mediana: 5\n",
            "[1 2 2 3 4 6]\n",
            "Mediana: 2.5\n"
          ]
        }
      ]
    },
    {
      "cell_type": "code",
      "source": [
        "# ejemplo de los apuntes: caso par\n",
        "\n",
        "x1 = np.array([3, 4, 5, 6, 7, 8])\n",
        "n1 = np.array([3, 2, 1, 2, 3, 1])\n",
        "\n",
        "mediana1 = imediana(x1,n1)\n",
        "print(f\"iMediana1: {mediana1:.2f}\")"
      ],
      "metadata": {
        "colab": {
          "base_uri": "https://localhost:8080/"
        },
        "id": "-q_wUy6WmpTN",
        "outputId": "d80904fe-0674-42b9-85b8-830ba4a59892"
      },
      "execution_count": null,
      "outputs": [
        {
          "output_type": "stream",
          "name": "stdout",
          "text": [
            "caso par: \n",
            "iMediana1: 5.50\n"
          ]
        }
      ]
    },
    {
      "cell_type": "code",
      "source": [
        "# ejemplo de los apuntes: caso impar\n",
        "\n",
        "x2 = np.array([125, 126, 127, 128])\n",
        "n2 = np.array([4, 4, 3, 1])\n",
        "\n",
        "mediana1 = imediana(x2,n2)\n",
        "print(f\"iMediana1: {mediana1:.2f}\")\n"
      ],
      "metadata": {
        "colab": {
          "base_uri": "https://localhost:8080/"
        },
        "id": "pDpoAjszrWjE",
        "outputId": "089bed9e-3a43-4f9d-a290-2779a5ccc1b9"
      },
      "execution_count": null,
      "outputs": [
        {
          "output_type": "stream",
          "name": "stdout",
          "text": [
            "caso par: \n",
            "iMediana1: 126.00\n"
          ]
        }
      ]
    },
    {
      "cell_type": "code",
      "source": [
        "def iplothist_median(x,n):\n",
        "  # Crear el histograma\n",
        "  plt.bar(x, n, width=1.0, edgecolor='black')\n",
        "\n",
        "  mediana = imediana(x,n)\n",
        "\n",
        "  # Colorear la primera mitad por debajo de la mediana\n",
        "  plt.bar(x[x <= mediana], n[x <= mediana], color='blue', width=1.0, edgecolor='black')\n",
        "\n",
        "  # Colorear la segunda mitad por encima de la mediana\n",
        "  plt.bar(x[x > mediana], n[x > mediana], color='orange', width=1.0, edgecolor='black')\n",
        "\n",
        "  # Dibujar la mediana\n",
        "  plt.axvline(x=mediana, color='red', linestyle='dashed', linewidth=2, label='Mediana')\n",
        "\n",
        "  # Etiquetas y leyenda\n",
        "  plt.title('Histograma con Mediana')\n",
        "  plt.xlabel('Valor')\n",
        "  plt.ylabel('Frecuencia')\n",
        "  plt.legend()\n",
        "\n",
        "  # Mostrar el gráfico\n",
        "  plt.show()"
      ],
      "metadata": {
        "id": "rPZ8xC5puipi"
      },
      "execution_count": null,
      "outputs": []
    },
    {
      "cell_type": "code",
      "source": [
        "def calcular_cuartiles_interv(x, n):\n",
        "    # Calcular la frecuencia acumulada\n",
        "    N = np.cumsum(n)\n",
        "\n",
        "    # Encontrar las posiciones de los cuartiles\n",
        "    pos_q1 = np.argmax(N >= np.sum(n) * 0.25)\n",
        "    pos_q2 = np.argmax(N >= np.sum(n) * 0.50)\n",
        "    pos_q3 = np.argmax(N >= np.sum(n) * 0.75)\n",
        "\n",
        "    rpos_q1 = (np.sum(n)+1) * 0.25\n",
        "    rpos_q2 = (np.sum(n)+1) * 0.50\n",
        "    rpos_q3 = (np.sum(n)+1) * 0.75\n",
        "\n",
        "    # Calcular los cuartiles\n",
        "    fpos_q1 = int(np.floor(rpos_q1))\n",
        "    d1 = rpos_q1-fpos_q1\n",
        "\n",
        "    cuartil_1 = x[pos_q1] + d1 * (x[pos_q1 + 1]-x[pos_q1])\n",
        "\n",
        "    fpos_q2 = int(np.floor(rpos_q2))\n",
        "    d2 = rpos_q2-fpos_q2\n",
        "\n",
        "    cuartil_2 = x[pos_q2] + d2 * (x[pos_q2 + 1]-x[pos_q2])\n",
        "\n",
        "    fpos_q3 = int(np.floor(rpos_q3))\n",
        "\n",
        "    d3 = rpos_q3-fpos_q3\n",
        "    cuartil_3 = x[pos_q3] + d3 * (x[pos_q3 + 1]-x[pos_q3])\n",
        "\n",
        "    # Verificar si pos_q coincide con N, si no, escoger x[pos_q]\n",
        "    if N[pos_q1] != fpos_q1:\n",
        "        cuartil_1 = x[pos_q1]\n",
        "\n",
        "    if N[pos_q2] != fpos_q2:\n",
        "        cuartil_2 = x[pos_q2]\n",
        "\n",
        "    if N[pos_q3] != fpos_q3:\n",
        "        cuartil_3 = x[pos_q3]\n",
        "\n",
        "    print(\"N =\",np.sum(n))\n",
        "\n",
        "    print(\"(N+1)/4 =\",rpos_q1)\n",
        "    print(\"k1 =\",fpos_q1)\n",
        "    print(\"j1 =\",pos_q1)\n",
        "    print(\"d1 =\",d1)\n",
        "    print(\"x1 =\",x[pos_q1])\n",
        "    print(\"x2 =\",x[pos_q1+1])\n",
        "\n",
        "    print(\"(N+1)/2 =\",rpos_q2)\n",
        "    print(\"k2 =\",fpos_q2)\n",
        "    print(\"j2 =\",pos_q2)\n",
        "    print(\"d2 =\",d2)\n",
        "    print(\"x2a =\",x[pos_q2])\n",
        "    print(\"x2b =\",x[pos_q2+1])\n",
        "\n",
        "    print(\"3(N+1)/4 =\",rpos_q3)\n",
        "    print(\"k3 =\",fpos_q3)\n",
        "    print(\"j3 =\",pos_q3)\n",
        "    print(\"d3 =\",d3)\n",
        "    print(\"x3a =\",x[pos_q3])\n",
        "    print(\"x3b =\",x[pos_q3+1])\n",
        "\n",
        "\n",
        "    return cuartil_1, cuartil_2, cuartil_3"
      ],
      "metadata": {
        "id": "aK7hljXicb41"
      },
      "execution_count": null,
      "outputs": []
    },
    {
      "cell_type": "code",
      "source": [
        "cuartiles = calcular_cuartiles_interv(x1, n1)\n",
        "cuartiles_str = ', '.join([f\"{cuartil:.2f}\" for cuartil in cuartiles])\n",
        "print(f\"iCuartiles (Q1, Q2, Q3): {cuartiles_str}\")"
      ],
      "metadata": {
        "colab": {
          "base_uri": "https://localhost:8080/"
        },
        "id": "DndVlfF1IGd5",
        "outputId": "60e2782f-09ed-45d4-cd15-9b43d7dea6ff"
      },
      "execution_count": null,
      "outputs": [
        {
          "output_type": "stream",
          "name": "stdout",
          "text": [
            "N = 12\n",
            "(N+1)/4 = 3.25\n",
            "k1 = 3\n",
            "j1 = 0\n",
            "d1 = 0.25\n",
            "x1 = 3\n",
            "x2 = 4\n",
            "(N+1)/2 = 6.5\n",
            "k2 = 6\n",
            "j2 = 2\n",
            "d2 = 0.5\n",
            "x2a = 5\n",
            "x2b = 6\n",
            "3(N+1)/4 = 9.75\n",
            "k3 = 9\n",
            "j3 = 4\n",
            "d3 = 0.75\n",
            "x3a = 7\n",
            "x3b = 8\n",
            "iCuartiles (Q1, Q2, Q3): 3.25, 5.50, 7.00\n"
          ]
        }
      ]
    },
    {
      "cell_type": "code",
      "source": [
        "x3 = np.array([1.5, 1.8, 2.2, 2.3, 2.6, 3.5, 3.8, 4.2, 5.0])\n",
        "n3 = np.ones(len(x3))\n",
        "\n",
        "cuartiles3 = calcular_cuartiles_interv(x3, n3)\n",
        "cuartiles_str = ', '.join([f\"{cuartil:.2f}\" for cuartil in cuartiles3])\n",
        "print(f\"iCuartiles (Q1, Q2, Q3): {cuartiles_str}\")\n",
        "\n",
        "mediana = imediana_nogrupo(x3)"
      ],
      "metadata": {
        "colab": {
          "base_uri": "https://localhost:8080/"
        },
        "id": "K2wYZX1tL5cn",
        "outputId": "88335937-6e9f-4296-8d9c-c82a5c754c71"
      },
      "execution_count": null,
      "outputs": [
        {
          "output_type": "stream",
          "name": "stdout",
          "text": [
            "N = 9.0\n",
            "(N+1)/4 = 2.5\n",
            "k1 = 2\n",
            "j1 = 2\n",
            "d1 = 0.5\n",
            "x1 = 2.2\n",
            "x2 = 2.3\n",
            "(N+1)/2 = 5.0\n",
            "k2 = 5\n",
            "j2 = 4\n",
            "d2 = 0.0\n",
            "x2a = 2.6\n",
            "x2b = 3.5\n",
            "3(N+1)/4 = 7.5\n",
            "k3 = 7\n",
            "j3 = 6\n",
            "d3 = 0.5\n",
            "x3a = 3.8\n",
            "x3b = 4.2\n",
            "iCuartiles (Q1, Q2, Q3): 2.20, 2.60, 4.00\n",
            "[1.5 1.8 2.2 2.3 2.6 3.5 3.8 4.2 5. ]\n",
            "Mediana: 2.6\n"
          ]
        }
      ]
    },
    {
      "cell_type": "code",
      "source": [
        "def moda_interv(x, n):\n",
        "    pos_mod = np.where(n == np.max(n))[0]\n",
        "\n",
        "    # Verificar si la moda está en el borde izquierdo o derecho para cada posición\n",
        "    modas = []\n",
        "    for pos in pos_mod:\n",
        "        if pos == 0:\n",
        "            delta1 = 0  # No hay elemento a la izquierda\n",
        "            delta2 = n[pos] - n[pos + 1]\n",
        "        elif pos == len(n) - 1:\n",
        "            delta1 = n[pos] - n[pos - 1]\n",
        "            delta2 = 0  # No hay elemento a la derecha\n",
        "        else:\n",
        "            delta1 = n[pos] - n[pos - 1]\n",
        "            delta2 = n[pos] - n[pos + 1]\n",
        "\n",
        "        amplitud_intervalo = x[pos + 1] - x[pos]\n",
        "        moda = x[pos] - 0.5 * amplitud_intervalo + delta1 / (delta1 + delta2) * amplitud_intervalo\n",
        "        modas.append(moda)\n",
        "\n",
        "    return modas"
      ],
      "metadata": {
        "id": "NsbqbMnKOyXX"
      },
      "execution_count": null,
      "outputs": []
    },
    {
      "cell_type": "code",
      "source": [
        "import pandas as pd\n",
        "from tabulate import tabulate\n",
        "\n",
        "# Datos proporcionados\n",
        "facultades = ['Matemáticas', 'Filosofía', 'Derecho', 'Economía', 'Química']\n",
        "num_alumnos = [2136, 3870, 1830, 4328, 2060]\n",
        "\n",
        "\n",
        "# Crear un DataFrame con las columnas\n",
        "data = {\n",
        "    'Facultad': facultades,\n",
        "    'Núm. alumnos': num_alumnos,\n",
        "\n",
        "}\n",
        "\n",
        "# Crear el DataFrame\n",
        "df = pd.DataFrame(data)\n",
        "\n",
        "# Mostrar la tabla usando tabulate\n",
        "table = tabulate(df, headers='keys', tablefmt='fancy_grid', showindex=False)\n",
        "print(table)"
      ],
      "metadata": {
        "id": "HKJerYa8Xykd",
        "colab": {
          "base_uri": "https://localhost:8080/"
        },
        "outputId": "8a44b716-acfe-47fd-c05d-3740d5abb215"
      },
      "execution_count": null,
      "outputs": [
        {
          "output_type": "stream",
          "name": "stdout",
          "text": [
            "╒═════════════╤════════════════╕\n",
            "│ Facultad    │   Núm. alumnos │\n",
            "╞═════════════╪════════════════╡\n",
            "│ Matemáticas │           2136 │\n",
            "├─────────────┼────────────────┤\n",
            "│ Filosofía   │           3870 │\n",
            "├─────────────┼────────────────┤\n",
            "│ Derecho     │           1830 │\n",
            "├─────────────┼────────────────┤\n",
            "│ Economía    │           4328 │\n",
            "├─────────────┼────────────────┤\n",
            "│ Química     │           2060 │\n",
            "╘═════════════╧════════════════╛\n"
          ]
        }
      ]
    },
    {
      "cell_type": "code",
      "source": [
        "# Calcular porcentaje de alumnos por facultad\n",
        "porcentaje_alumnos = [(num / sum(num_alumnos)) * 100 for num in num_alumnos]\n",
        "\n",
        "# Crear el pie plot\n",
        "plt.figure(figsize=(8, 8))\n",
        "plt.pie(porcentaje_alumnos, labels=facultades, autopct='%1.1f%%', startangle=140)\n",
        "plt.title('Porcentaje de Alumnos por Facultad')\n",
        "plt.show()"
      ],
      "metadata": {
        "colab": {
          "base_uri": "https://localhost:8080/",
          "height": 675
        },
        "id": "T-NcWC_4Ppab",
        "outputId": "daf721b7-3d93-4aee-c23d-6c50040b001d"
      },
      "execution_count": null,
      "outputs": [
        {
          "output_type": "display_data",
          "data": {
            "text/plain": [
              "<Figure size 800x800 with 1 Axes>"
            ],
            "image/png": "[encoded data removed]"
          },
          "metadata": {}
        }
      ]
    },
    {
      "cell_type": "code",
      "source": [
        "x3 = np.array([1., 2., 3., 4., 5.])\n",
        "n3 = np.array([2., 4, 7, 6, 3.5])"
      ],
      "metadata": {
        "id": "JyLPyhK-Pp6l"
      },
      "execution_count": null,
      "outputs": []
    },
    {
      "cell_type": "code",
      "source": [
        "# Crear el histograma\n",
        "plt.bar(x3, n3, width=1.0, edgecolor='black')\n",
        "\n",
        "plt.xlabel('x3')\n",
        "plt.ylabel('Frecuencia')\n",
        "plt.title('Histograma para x3')\n",
        "\n",
        "plt.show()"
      ],
      "metadata": {
        "colab": {
          "base_uri": "https://localhost:8080/",
          "height": 472
        },
        "id": "Uhq81XEWQleH",
        "outputId": "84c8399d-ae01-40f8-d293-fac1cb9347ea"
      },
      "execution_count": null,
      "outputs": [
        {
          "output_type": "display_data",
          "data": {
            "text/plain": [
              "<Figure size 640x480 with 1 Axes>"
            ],
            "image/png": "[encoded data removed]"
          },
          "metadata": {}
        }
      ]
    },
    {
      "cell_type": "code",
      "source": [
        "modas = moda_interv(x3,n3)\n",
        "\n",
        "print(f\"Modas: {modas}\")"
      ],
      "metadata": {
        "colab": {
          "base_uri": "https://localhost:8080/"
        },
        "id": "f83jUrqnM9M_",
        "outputId": "e0cd0f02-4316-4ff0-9d74-8ac19948508c"
      },
      "execution_count": null,
      "outputs": [
        {
          "output_type": "stream",
          "name": "stdout",
          "text": [
            "Modas: [3.25]\n"
          ]
        }
      ]
    },
    {
      "cell_type": "code",
      "source": [],
      "metadata": {
        "id": "blnlDquptTG9"
      },
      "execution_count": null,
      "outputs": []
    }
  ]
}